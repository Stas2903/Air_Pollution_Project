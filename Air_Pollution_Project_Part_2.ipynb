{
 "cells": [
  {
   "cell_type": "markdown",
   "id": "285e4794",
   "metadata": {},
   "source": [
    "#  STEP 3: Feature Engineering "
   ]
  },
  {
   "cell_type": "markdown",
   "id": "e4ede796",
   "metadata": {},
   "source": [
    "## Drop unnecessary variables"
   ]
  },
  {
   "cell_type": "code",
   "execution_count": 1,
   "id": "f247f165",
   "metadata": {},
   "outputs": [
    {
     "ename": "NameError",
     "evalue": "name 'data' is not defined",
     "output_type": "error",
     "traceback": [
      "\u001b[1;31m---------------------------------------------------------------------------\u001b[0m",
      "\u001b[1;31mNameError\u001b[0m                                 Traceback (most recent call last)",
      "Cell \u001b[1;32mIn[1], line 1\u001b[0m\n\u001b[1;32m----> 1\u001b[0m \u001b[43mdata\u001b[49m\u001b[38;5;241m.\u001b[39mdrop(columns \u001b[38;5;241m=\u001b[39m [\u001b[38;5;124m'\u001b[39m\u001b[38;5;124mNo\u001b[39m\u001b[38;5;124m'\u001b[39m, \u001b[38;5;124m'\u001b[39m\u001b[38;5;124myear\u001b[39m\u001b[38;5;124m'\u001b[39m, \u001b[38;5;124m'\u001b[39m\u001b[38;5;124mday\u001b[39m\u001b[38;5;124m'\u001b[39m, \u001b[38;5;124m'\u001b[39m\u001b[38;5;124mhour\u001b[39m\u001b[38;5;124m'\u001b[39m, \u001b[38;5;124m'\u001b[39m\u001b[38;5;124mmonth\u001b[39m\u001b[38;5;124m'\u001b[39m, \u001b[38;5;124m'\u001b[39m\u001b[38;5;124mSeason\u001b[39m\u001b[38;5;124m'\u001b[39m], axis \u001b[38;5;241m=\u001b[39m \u001b[38;5;241m1\u001b[39m, inplace \u001b[38;5;241m=\u001b[39m \u001b[38;5;28;01mTrue\u001b[39;00m)\n",
      "\u001b[1;31mNameError\u001b[0m: name 'data' is not defined"
     ]
    }
   ],
   "source": [
    "data.drop(columns = ['No', 'year', 'day', 'hour', 'month', 'Season'], axis = 1, inplace = True)"
   ]
  },
  {
   "cell_type": "markdown",
   "id": "eb3c09f2",
   "metadata": {},
   "source": [
    "## Building ColumnTransformer"
   ]
  },
  {
   "cell_type": "code",
   "execution_count": null,
   "id": "afcad872",
   "metadata": {},
   "outputs": [],
   "source": [
    "preprocessor = ColumnTransformer(transformers = [\n",
    "    (\"encoder\", CountFrequencyEncoder(), ['Wind_direction']),\n",
    "    (\"imputer\", KNNImputer(), ['Pollution']),\n",
    "], remainder = 'passthrough')"
   ]
  },
  {
   "cell_type": "code",
   "execution_count": null,
   "id": "8fc51347",
   "metadata": {},
   "outputs": [],
   "source": [
    "data_t = preprocessor.fit_transform(data)"
   ]
  },
  {
   "cell_type": "code",
   "execution_count": null,
   "id": "c431a97d",
   "metadata": {
    "scrolled": true
   },
   "outputs": [],
   "source": [
    "data_transformed = pd.DataFrame(data_t)\n",
    "data_transformed"
   ]
  },
  {
   "cell_type": "markdown",
   "id": "fc24bfe4",
   "metadata": {},
   "source": [
    "## Scaling"
   ]
  },
  {
   "cell_type": "code",
   "execution_count": null,
   "id": "f58cc6ec",
   "metadata": {},
   "outputs": [],
   "source": [
    "scaler = RobustScaler()"
   ]
  },
  {
   "cell_type": "code",
   "execution_count": null,
   "id": "345b40be",
   "metadata": {},
   "outputs": [],
   "source": [
    "data_t = scaler.fit_transform(data_transformed)\n",
    "data_transformed = pd.DataFrame(data_t)\n",
    "data_transformed.columns = ['Wind_direction', 'Pollution', 'Dew_point', 'Temprerature', 'Pressure', 'Wind_speed', 'Snow', 'Rain']\n",
    "data_transformed.index = data.index\n",
    "data_transformed"
   ]
  },
  {
   "cell_type": "markdown",
   "id": "0f11ce5e",
   "metadata": {},
   "source": [
    "#  STEP 4: Splitting to train / test sets "
   ]
  },
  {
   "cell_type": "code",
   "execution_count": null,
   "id": "974623b6",
   "metadata": {},
   "outputs": [],
   "source": [
    "data_transformed['Predicted_pollution'] = data_transformed['Pollution'].shift(-1)\n",
    "data_transformed.head()"
   ]
  },
  {
   "cell_type": "code",
   "execution_count": null,
   "id": "15a724b9",
   "metadata": {},
   "outputs": [],
   "source": [
    "data_transformed.drop(data.tail(1).index, inplace = True)\n",
    "data_transformed.tail()"
   ]
  },
  {
   "cell_type": "code",
   "execution_count": null,
   "id": "5b842cc2",
   "metadata": {
    "scrolled": true
   },
   "outputs": [],
   "source": [
    "train = data_transformed.values[:(365 * 24 * 3)]\n",
    "test = data_transformed.values[(365 * 24 * 3):]\n",
    "\n",
    "train_X, train_y = train[:, :-1], train[:, -1]\n",
    "test_X, test_y = test[:, :-1], test[:, -1]\n",
    "\n",
    "train_X = train_X.reshape((train_X.shape[0], 1, train_X.shape[1]))\n",
    "test_X = test_X.reshape((test_X.shape[0], 1, test_X.shape[1]))\n",
    "\n",
    "train_X.shape, train_y.shape, test_X.shape, test_y.shape"
   ]
  },
  {
   "cell_type": "markdown",
   "id": "2775fa7f",
   "metadata": {},
   "source": [
    "#  STEP 5: Predicting pollution rates for nex hour "
   ]
  },
  {
   "cell_type": "markdown",
   "id": "36b4eaf9",
   "metadata": {},
   "source": [
    "## Callbacks"
   ]
  },
  {
   "cell_type": "code",
   "execution_count": null,
   "id": "eef09aba",
   "metadata": {},
   "outputs": [],
   "source": [
    "checkpoint = ModelCheckpoint(\n",
    "    filepath = './base/model_hours_2_layers_weights.h5py',\n",
    "    monitor = 'val_loss',\n",
    "    verbose = 1,\n",
    "    save_best_only = True,\n",
    "    mode = 'min',\n",
    "    save_weights_only = True,\n",
    "    save_freq = 'epoch'\n",
    ")\n",
    "\n",
    "earlyStop = EarlyStopping(\n",
    "    monitor = 'val_loss',\n",
    "    min_delta = 0.001,\n",
    "    patience = 50,\n",
    "    verbose = 1,\n",
    "    mode = 'min'\n",
    ")\n",
    "\n",
    "callbacks = [checkpoint, earlyStop]"
   ]
  },
  {
   "cell_type": "markdown",
   "id": "a2af6784",
   "metadata": {},
   "source": [
    "#  Train RNN Model with 2 hidden layer "
   ]
  },
  {
   "cell_type": "code",
   "execution_count": null,
   "id": "7241bd3d",
   "metadata": {
    "scrolled": true
   },
   "outputs": [],
   "source": [
    "model_hours_2_layers = Sequential([\n",
    "    LSTM(100, return_sequences = True, input_shape = (train_X.shape[1], train_X.shape[2])),\n",
    "    LSTM(100),\n",
    "    Dense(1)\n",
    "])\n",
    "\n",
    "model_hours_2_layers.compile(loss = 'mean_squared_error', optimizer = 'adam')\n",
    "history_hours_2_layers = model_hours_2_layers.fit(\n",
    "    train_X,\n",
    "    train_y,\n",
    "    epochs = 100,\n",
    "    batch_size = 30,\n",
    "    validation_data = (test_X, test_y),\n",
    "    verbose = 1,\n",
    "    callbacks = callbacks,\n",
    "    shuffle = False ### IMPORTANT: We can not loose the time sequence,\n",
    "    \n",
    ")"
   ]
  },
  {
   "cell_type": "markdown",
   "id": "d232d516",
   "metadata": {},
   "source": [
    "#  Result analysis "
   ]
  },
  {
   "cell_type": "markdown",
   "id": "4c53e46e",
   "metadata": {},
   "source": [
    "## Loss plot"
   ]
  },
  {
   "cell_type": "code",
   "execution_count": null,
   "id": "d0893293",
   "metadata": {},
   "outputs": [],
   "source": [
    "plt.plot(history_hours_2_layers.history['loss'], label = 'train')\n",
    "plt.plot(history_hours_2_layers.history['val_loss'], label = 'test')\n",
    "plt.legend(['train', 'test'])"
   ]
  },
  {
   "cell_type": "markdown",
   "id": "baaa113f",
   "metadata": {},
   "source": [
    "## Making predictions"
   ]
  },
  {
   "cell_type": "code",
   "execution_count": null,
   "id": "c7fda8f3",
   "metadata": {},
   "outputs": [],
   "source": [
    "# test set\n",
    "yhat_test = model_hours_2_layers.predict(test_X)\n",
    "\n",
    "test_X = test_X.reshape((test_X.shape[0], test_X.shape[2]))\n",
    "\n",
    "inv_yhat_test = np.concatenate((yhat_test, test_X[:, 1:]), axis = 1)\n",
    "inv_yhat_test = scaler.inverse_transform(inv_yhat_test)\n",
    "inv_yhat_test = inv_yhat_test[:, 0]\n",
    "\n",
    "test_y = test_y.reshape(-1, 1)\n",
    "inv_y_test = np.concatenate((test_y, test_X[:, 1:]), axis = 1)\n",
    "inv_y_test = scaler.inverse_transform(inv_y_test)\n",
    "inv_y_test = inv_y_test[:, 0]\n",
    "\n",
    "rmse_test = mean_squared_error(inv_y_test, inv_yhat_test, squared = False)\n",
    "print('Test RMSE: {:.3f}'.format(rmse_test))\n",
    "\n",
    "# train set\n",
    "yhat_train = model_hours_2_layers.predict(train_X)\n",
    "\n",
    "train_X = train_X.reshape((train_X.shape[0], train_X.shape[2]))\n",
    "\n",
    "inv_yhat_train = np.concatenate((yhat_train, train_X[:, 1:]), axis = 1)\n",
    "inv_yhat_train = scaler.inverse_transform(inv_yhat_train)\n",
    "inv_yhat_train = inv_yhat_train[:, 0]\n",
    "\n",
    "train_y = train_y.reshape(-1, 1)\n",
    "inv_y_train = np.concatenate((train_y, train_X[:, 1:]), axis = 1)\n",
    "inv_y_train = scaler.inverse_transform(inv_y_train)\n",
    "inv_y_train = inv_y_train[:, 0]\n",
    "\n",
    "rmse_train = mean_squared_error(inv_y_train, inv_yhat_train, squared = False)\n",
    "print('Test RMSE: {:.3f}'.format(rmse_train))"
   ]
  },
  {
   "cell_type": "markdown",
   "id": "5d5a29fc",
   "metadata": {},
   "source": [
    "## Residual plot"
   ]
  },
  {
   "cell_type": "code",
   "execution_count": null,
   "id": "a385e8a6",
   "metadata": {},
   "outputs": [],
   "source": [
    "#train\n",
    "y_train = inv_y_train.reshape(-1, 1)\n",
    "y_pred_train = inv_yhat_train.reshape(-1, 1)\n",
    "\n",
    "plt.figure(figsize = (16, 8))\n",
    "plt.plot(y_pred_train[:200, :], color = 'green', label = 'Predicted pollution level')\n",
    "plt.plot(y_train[:200, :], color = 'red', label = 'Actual pollution level')\n",
    "plt.title('Air pollution prediction (Train)')\n",
    "plt.xlabel('Date')\n",
    "plt.ylabel('Pollution level')\n",
    "plt.legend()\n",
    "plt.show()\n",
    "\n",
    "#test\n",
    "y_test = inv_y_test.reshape(-1, 1)\n",
    "y_pred_test = inv_yhat_test.reshape(-1, 1)\n",
    "\n",
    "plt.figure(figsize = (16, 8))\n",
    "plt.plot(y_pred_test[:200, :], color = 'green', label = 'Predicted pollution level')\n",
    "plt.plot(y_test[:200, :], color = 'red', label = 'Actual pollution level')\n",
    "plt.title('Air pollution prediction (Test)')\n",
    "plt.xlabel('Date')\n",
    "plt.ylabel('Pollution level')\n",
    "plt.legend()\n",
    "plt.show()"
   ]
  },
  {
   "cell_type": "markdown",
   "id": "12a4cc62",
   "metadata": {},
   "source": [
    "## R2 Score"
   ]
  },
  {
   "cell_type": "code",
   "execution_count": null,
   "id": "971975ef",
   "metadata": {
    "scrolled": true
   },
   "outputs": [],
   "source": [
    "print('****Train****')\n",
    "print('R2 score: {}'.format(r2_score(inv_y_train, inv_yhat_train)))\n",
    "\n",
    "print('****Test****')\n",
    "print('R2 score: {}'.format(r2_score(inv_y_test, inv_yhat_test)))"
   ]
  },
  {
   "cell_type": "markdown",
   "id": "af33252e",
   "metadata": {},
   "source": [
    "#  Saving the model \n"
   ]
  },
  {
   "cell_type": "code",
   "execution_count": null,
   "id": "b308bc99",
   "metadata": {},
   "outputs": [],
   "source": [
    "model_hours_2_layers = model_hours_2_layers.to_json()\n",
    "with open('model_hours_2_layers.json', 'w') as json_file:\n",
    "    json_file.write(model_hours_2_layers)"
   ]
  },
  {
   "cell_type": "markdown",
   "id": "2e9ad0c7",
   "metadata": {},
   "source": [
    "#  Train RNN Model with 4 hidden layers "
   ]
  },
  {
   "cell_type": "code",
   "execution_count": null,
   "id": "a429e30b",
   "metadata": {},
   "outputs": [],
   "source": [
    "train = data_transformed.values[:(365 * 24 * 3)]\n",
    "test = data_transformed.values[(365 * 24 * 3):]\n",
    "\n",
    "train_X, train_y = train[:, :-1], train[:, -1]\n",
    "test_X, test_y = test[:, :-1], test[:, -1]\n",
    "\n",
    "train_X = train_X.reshape((train_X.shape[0], 1, train_X.shape[1]))\n",
    "test_X = test_X.reshape((test_X.shape[0], 1, test_X.shape[1]))\n",
    "\n",
    "train_X.shape, train_y.shape, test_X.shape, test_y.shape"
   ]
  },
  {
   "cell_type": "markdown",
   "id": "bbbb5307",
   "metadata": {},
   "source": [
    "## Callbacks"
   ]
  },
  {
   "cell_type": "code",
   "execution_count": null,
   "id": "6e4be8c4",
   "metadata": {},
   "outputs": [],
   "source": [
    "checkpoint = ModelCheckpoint(\n",
    "    filepath = './base/model_hours_4_layers_weights.h5py',\n",
    "    monitor = 'val_loss',\n",
    "    verbose = 1,\n",
    "    save_best_only = True,\n",
    "    mode = 'min',\n",
    "    save_weights_only = True,\n",
    "    save_freq = 'epoch'\n",
    ")\n",
    "\n",
    "earlyStop = EarlyStopping(\n",
    "    monitor = 'val_loss',\n",
    "    min_delta = 0.001,\n",
    "    patience = 50,\n",
    "    verbose = 1,\n",
    "    mode = 'min'\n",
    ")\n",
    "\n",
    "callbacks = [checkpoint, earlyStop]"
   ]
  },
  {
   "cell_type": "code",
   "execution_count": null,
   "id": "4a69e94b",
   "metadata": {
    "scrolled": true
   },
   "outputs": [],
   "source": [
    "model_hours_4_layers = Sequential([\n",
    "    LSTM(100, return_sequences = True, input_shape = (train_X.shape[1], train_X.shape[2])),\n",
    "    Dropout(0.3),\n",
    "    LSTM(100, return_sequences = True),\n",
    "    Dropout(0.3),\n",
    "    LSTM(100, return_sequences = True),\n",
    "    Dropout(0.3),\n",
    "    LSTM(100),\n",
    "    Dense(1)\n",
    "])\n",
    "\n",
    "model_hours_4_layers.compile(loss = 'mean_squared_error', optimizer = 'adam')\n",
    "history_hours_4_layers = model_hours_4_layers.fit(\n",
    "    train_X,\n",
    "    train_y,\n",
    "    epochs = 100,\n",
    "    batch_size = 30,\n",
    "    validation_data = (test_X, test_y),\n",
    "    verbose = 1,\n",
    "    callbacks = callbacks,\n",
    "    shuffle = False ### IMPORTANT: We can not loose the time sequence,\n",
    "    \n",
    ")"
   ]
  },
  {
   "cell_type": "markdown",
   "id": "c46f52b5",
   "metadata": {},
   "source": [
    "# ========================= Result analysis ========================="
   ]
  },
  {
   "cell_type": "markdown",
   "id": "315608be",
   "metadata": {},
   "source": [
    "## Loss plot"
   ]
  },
  {
   "cell_type": "code",
   "execution_count": null,
   "id": "ac837a3e",
   "metadata": {},
   "outputs": [],
   "source": [
    "plt.plot(history_hours_4_layers.history['loss'], label = 'train')\n",
    "plt.plot(history_hours_4_layers.history['val_loss'], label = 'test')\n",
    "plt.legend(['train', 'test'])"
   ]
  },
  {
   "cell_type": "markdown",
   "id": "60cb4e64",
   "metadata": {},
   "source": [
    "## Making predictions"
   ]
  },
  {
   "cell_type": "code",
   "execution_count": null,
   "id": "e0628d4a",
   "metadata": {},
   "outputs": [],
   "source": [
    "# test set\n",
    "yhat_test = model_hours_4_layers.predict(test_X)\n",
    "\n",
    "test_X = test_X.reshape((test_X.shape[0], test_X.shape[2]))\n",
    "\n",
    "inv_yhat_test = np.concatenate((yhat_test, test_X[:, 1:]), axis = 1)\n",
    "inv_yhat_test = scaler.inverse_transform(inv_yhat_test)\n",
    "inv_yhat_test = inv_yhat_test[:, 0]\n",
    "\n",
    "test_y = test_y.reshape(-1, 1)\n",
    "inv_y_test = np.concatenate((test_y, test_X[:, 1:]), axis = 1)\n",
    "inv_y_test = scaler.inverse_transform(inv_y_test)\n",
    "inv_y_test = inv_y_test[:, 0]\n",
    "\n",
    "rmse_test = mean_squared_error(inv_y_test, inv_yhat_test, squared = False)\n",
    "print('Test RMSE: {:.3f}'.format(rmse_test))\n",
    "\n",
    "# train set\n",
    "yhat_train = model_hours_4_layers.predict(train_X)\n",
    "\n",
    "train_X = train_X.reshape((train_X.shape[0], train_X.shape[2]))\n",
    "\n",
    "inv_yhat_train = np.concatenate((yhat_train, train_X[:, 1:]), axis = 1)\n",
    "inv_yhat_train = scaler.inverse_transform(inv_yhat_train)\n",
    "inv_yhat_train = inv_yhat_train[:, 0]\n",
    "\n",
    "train_y = train_y.reshape(-1, 1)\n",
    "inv_y_train = np.concatenate((train_y, train_X[:, 1:]), axis = 1)\n",
    "inv_y_train = scaler.inverse_transform(inv_y_train)\n",
    "inv_y_train = inv_y_train[:, 0]\n",
    "\n",
    "rmse_train = mean_squared_error(inv_y_train, inv_yhat_train, squared = False)\n",
    "print('Test RMSE: {:.3f}'.format(rmse_train))"
   ]
  },
  {
   "cell_type": "markdown",
   "id": "616db767",
   "metadata": {},
   "source": [
    "## Residual plot"
   ]
  },
  {
   "cell_type": "code",
   "execution_count": null,
   "id": "95cbcbc9",
   "metadata": {},
   "outputs": [],
   "source": [
    "#train\n",
    "y_train = inv_y_train.reshape(-1, 1)\n",
    "y_pred_train = inv_yhat_train.reshape(-1, 1)\n",
    "\n",
    "plt.figure(figsize = (16, 8))\n",
    "plt.plot(y_pred_train[:200, :], color = 'green', label = 'Predicted pollution level')\n",
    "plt.plot(y_train[:200, :], color = 'red', label = 'Actual pollution level')\n",
    "plt.title('Air pollution prediction (Train)')\n",
    "plt.xlabel('Date')\n",
    "plt.ylabel('Pollution level')\n",
    "plt.legend()\n",
    "plt.show()\n",
    "\n",
    "#test\n",
    "y_test = inv_y_test.reshape(-1, 1)\n",
    "y_pred_test = inv_yhat_test.reshape(-1, 1)\n",
    "\n",
    "plt.figure(figsize = (16, 8))\n",
    "plt.plot(y_pred_test[:200, :], color = 'green', label = 'Predicted pollution level')\n",
    "plt.plot(y_test[:200, :], color = 'red', label = 'Actual pollution level')\n",
    "plt.title('Air pollution prediction (Test)')\n",
    "plt.xlabel('Date')\n",
    "plt.ylabel('Pollution level')\n",
    "plt.legend()\n",
    "plt.show()"
   ]
  },
  {
   "cell_type": "markdown",
   "id": "ea4c67a4",
   "metadata": {},
   "source": [
    "## R2 Score"
   ]
  },
  {
   "cell_type": "code",
   "execution_count": null,
   "id": "b2d2be02",
   "metadata": {
    "scrolled": true
   },
   "outputs": [],
   "source": [
    "print('****Train****')\n",
    "print('R2 score: {}'.format(r2_score(inv_y_train, inv_yhat_train)))\n",
    "\n",
    "print('****Test****')\n",
    "print('R2 score: {}'.format(r2_score(inv_y_test, inv_yhat_test)))"
   ]
  },
  {
   "cell_type": "markdown",
   "id": "825cd81b",
   "metadata": {},
   "source": [
    "#  Saving the model "
   ]
  },
  {
   "cell_type": "code",
   "execution_count": null,
   "id": "f65a6d05",
   "metadata": {},
   "outputs": [],
   "source": [
    "model_hours_4_layers = model_hours_4_layers.to_json()\n",
    "with open('model_hours_4_layers.json', 'w') as json_file:\n",
    "    json_file.write(model_hours_4_layers)"
   ]
  }
 ],
 "metadata": {
  "kernelspec": {
   "display_name": "Python 3 (ipykernel)",
   "language": "python",
   "name": "python3"
  },
  "language_info": {
   "codemirror_mode": {
    "name": "ipython",
    "version": 3
   },
   "file_extension": ".py",
   "mimetype": "text/x-python",
   "name": "python",
   "nbconvert_exporter": "python",
   "pygments_lexer": "ipython3",
   "version": "3.8.16"
  },
  "widgets": {
   "application/vnd.jupyter.widget-state+json": {
    "state": {},
    "version_major": 2,
    "version_minor": 0
   }
  }
 },
 "nbformat": 4,
 "nbformat_minor": 5
}
